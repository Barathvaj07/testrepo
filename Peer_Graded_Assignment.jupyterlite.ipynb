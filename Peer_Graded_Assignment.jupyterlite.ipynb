{
  "metadata": {
    "kernelspec": {
      "name": "python",
      "display_name": "Python (Pyodide)",
      "language": "python"
    },
    "language_info": {
      "codemirror_mode": {
        "name": "python",
        "version": 3
      },
      "file_extension": ".py",
      "mimetype": "text/x-python",
      "name": "python",
      "nbconvert_exporter": "python",
      "pygments_lexer": "ipython3",
      "version": "3.8"
    }
  },
  "nbformat_minor": 4,
  "nbformat": 4,
  "cells": [
    {
      "cell_type": "markdown",
      "source": "<p style=\"text-align:center\">\n    <a href=\"https://skills.network/?utm_medium=Exinfluencer&utm_source=Exinfluencer&utm_content=000026UJ&utm_term=10006555&utm_id=NA-SkillsNetwork-Channel-SkillsNetworkCoursesIBMDeveloperSkillsNetworkST0151ENSkillsNetwork20531532-2022-01-01\" target=\"_blank\">\n    <img src=\"https://cf-courses-data.s3.us.cloud-object-storage.appdomain.cloud/assets/logos/SN_web_lightmode.png\" width=\"200\" alt=\"Skills Network Logo\"  />\n    </a>\n</p>\n\n",
      "metadata": {}
    },
    {
      "cell_type": "markdown",
      "source": "#### Import the required libraries we need for the lab.\n",
      "metadata": {}
    },
    {
      "cell_type": "code",
      "source": "import piplite\nawait piplite.install(['numpy'],['pandas'])\nawait piplite.install(['seaborn'])",
      "metadata": {
        "trusted": true
      },
      "outputs": [],
      "execution_count": null
    },
    {
      "cell_type": "code",
      "source": "import pandas as pd\nimport pandas as pd\nimport seaborn as sns\nimport matplotlib.pyplot as pyplot\nimport scipy.stats\nimport statsmodels.api as sm\nfrom statsmodels.formula.api import ols",
      "metadata": {
        "trusted": true
      },
      "outputs": [],
      "execution_count": null
    },
    {
      "cell_type": "markdown",
      "source": "#### Read the dataset in the csv file from the URL\n",
      "metadata": {}
    },
    {
      "cell_type": "code",
      "source": "from js import fetch\nimport io\n\nURL = 'https://cf-courses-data.s3.us.cloud-object-storage.appdomain.cloud/IBMDeveloperSkillsNetwork-ST0151EN-SkillsNetwork/labs/boston_housing.csv'\nresp = await fetch(URL)\nboston_url = io.BytesIO((await resp.arrayBuffer()).to_py())",
      "metadata": {
        "trusted": true
      },
      "outputs": [],
      "execution_count": null
    },
    {
      "cell_type": "code",
      "source": "boston_df=pd.read_csv(boston_url)",
      "metadata": {
        "trusted": true
      },
      "outputs": [],
      "execution_count": null
    },
    {
      "cell_type": "markdown",
      "source": "#### Add your code below following the instructions given in the course to complete the peer graded assignment\n",
      "metadata": {}
    },
    {
      "cell_type": "code",
      "source": "boston_df.describe()",
      "metadata": {
        "trusted": true
      },
      "outputs": [],
      "execution_count": null
    },
    {
      "cell_type": "code",
      "source": "boston_df.head(10)",
      "metadata": {
        "trusted": true
      },
      "outputs": [],
      "execution_count": null
    },
    {
      "cell_type": "code",
      "source": "ax = sns.boxplot(y = 'MEDV', data = boston_df)\nax.set_title('Owner-occupied homes')",
      "metadata": {
        "trusted": true
      },
      "outputs": [],
      "execution_count": null
    },
    {
      "cell_type": "code",
      "source": "ax2 = sns.countplot(x = 'CHAS', data = boston_df)\nax2.set_title('Number of homes near the Charles River')",
      "metadata": {
        "trusted": true
      },
      "outputs": [],
      "execution_count": null
    },
    {
      "cell_type": "code",
      "source": "boston_df.loc[(boston_df['AGE'] <= 35), 'Age_Group'] = '35 years and younger'\nboston_df.loc[(boston_df['AGE'] > 35) & (boston_df['AGE'] < 70), 'Age_Group'] = 'between 35 and 70 years'\nboston_df.loc[(boston_df['AGE'] >= 70), 'Age_Group'] = '70 years and older'",
      "metadata": {
        "trusted": true
      },
      "outputs": [],
      "execution_count": null
    },
    {
      "cell_type": "code",
      "source": "ax3 = sns.boxplot(x = 'MEDV', y = 'Age_Group', data = boston_df)\nax3.set_title('Median value of owner-occupied homes per Age Group')",
      "metadata": {
        "trusted": true
      },
      "outputs": [],
      "execution_count": null
    },
    {
      "cell_type": "code",
      "source": "ax4 = sns.scatterplot(y = 'NOX', x = 'INDUS', data = boston_df)\nax4.set_title('Nitric oxide concentration per proportion of non-retail business acres per town')",
      "metadata": {
        "trusted": true
      },
      "outputs": [],
      "execution_count": null
    },
    {
      "cell_type": "code",
      "source": "ax5 = sns.countplot(x = 'PTRATIO', data = boston_df)\nax5.set_title('Pupil to teacher ratio per town')",
      "metadata": {
        "trusted": true
      },
      "outputs": [],
      "execution_count": null
    },
    {
      "cell_type": "code",
      "source": "boston_df.loc[(boston_df['CHAS'] == 0), 'CHAS_T'] = 'FAR'\nboston_df.loc[(boston_df['CHAS'] == 1), 'CHAS_T'] = 'NEAR'\nboston_df.head(5)",
      "metadata": {
        "trusted": true
      },
      "outputs": [],
      "execution_count": null
    },
    {
      "cell_type": "code",
      "source": "scipy.stats.ttest_ind(boston_df[boston_df['CHAS_T'] == 'FAR']['MEDV'], \n                      boston_df[boston_df['CHAS_T'] == 'NEAR']['MEDV'], equal_var = True)",
      "metadata": {
        "trusted": true
      },
      "outputs": [],
      "execution_count": null
    },
    {
      "cell_type": "code",
      "source": "from statsmodels.formula.api import ols\nlm = ols('MEDV ~ AGE', data = boston_df).fit()\ntable = sm.stats.anova_lm(lm)\nprint(table)",
      "metadata": {
        "trusted": true
      },
      "outputs": [],
      "execution_count": null
    },
    {
      "cell_type": "code",
      "source": "scipy.stats.pearsonr(boston_df['NOX'], boston_df['INDUS'])",
      "metadata": {
        "trusted": true
      },
      "outputs": [],
      "execution_count": null
    },
    {
      "cell_type": "code",
      "source": "x = boston_df['DIS']\ny = boston_df['MEDV']\n\nx = sm.add_constant(x)\n\nmodel = sm.OLS(y, x).fit()\npredisction = model.predict(x)\n\nmodel.summary()",
      "metadata": {
        "trusted": true
      },
      "outputs": [],
      "execution_count": null
    },
    {
      "cell_type": "code",
      "source": "",
      "metadata": {
        "trusted": true
      },
      "outputs": [],
      "execution_count": null
    }
  ]
}